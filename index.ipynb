{
 "cells": [
  {
   "cell_type": "markdown",
   "metadata": {},
   "source": [
    "# Dealing with Missing Data - Lab\n",
    "\n",
    "## Introduction\n",
    "\n",
    "In this lab, we'll work through strategies for data cleaning and dealing with null values (NaNs).\n",
    "\n",
    "## Objectives\n",
    "* Detect missing data in Pandas using .describe(), .info(), .isnull and .notnull\n",
    "* Replace/drop missing data in Pandas using .fillna and .dropna\n",
    "\n",
    "\n",
    "## Dataset\n",
    "\n",
    "In this lab, we'll continue working with the _Titanic Survivors_ dataset, which can be found in `titanic.csv`.\n",
    "\n",
    "Before we can get going, we'll need to import the usual libraries.  In the cell below, import:\n",
    "* `pandas` as `pd`\n",
    "* `numpy` as `np`\n",
    "* `matplotlib.pyplot` as `plt`\n",
    "* set `%matplotlib inline`"
   ]
  },
  {
   "cell_type": "code",
   "execution_count": 2,
   "metadata": {},
   "outputs": [],
   "source": [
    "# Import necessary libraries below\n",
    "import pandas as pd\n",
    "import numpy as np\n",
    "import matplotlib.pyplot as plt\n",
    "%matplotlib inline"
   ]
  },
  {
   "cell_type": "markdown",
   "metadata": {},
   "source": [
    "Now, let's get started by reading in the data from the **titanic.csv** file and storing it in a DataFrame in the `df` variable below. Subsequently, be sure to preview the data."
   ]
  },
  {
   "cell_type": "code",
   "execution_count": 3,
   "metadata": {},
   "outputs": [],
   "source": [
    "df =  pd.read_csv(\"titanic.csv\")"
   ]
  },
  {
   "cell_type": "markdown",
   "metadata": {},
   "source": [
    "## Finding Null Values in a DataFrame\n",
    "\n",
    "Before we can deal with null values, we first need to find them. There are several easy ways to detect them.  We will start by answering very general questions, such as \"does this DataFrame contain any null values?\", and then narrowing our focus each time the answer to a question is \"yes\".\n",
    "\n",
    "We'll start by checking to see if the DataFrame contains **any** null values (NaNs) at all. \n",
    "\n",
    "**_Hint_**: If you do this correctly, it will require method chaining, and will return a boolean value for each column.  "
   ]
  },
  {
   "cell_type": "code",
   "execution_count": 7,
   "metadata": {},
   "outputs": [
    {
     "data": {
      "text/plain": [
       "Unnamed: 0       0\n",
       "PassengerId      0\n",
       "Survived         0\n",
       "Pclass           0\n",
       "Name             0\n",
       "Sex              0\n",
       "Age            177\n",
       "SibSp            0\n",
       "Parch            0\n",
       "Ticket           0\n",
       "Fare             0\n",
       "Cabin          687\n",
       "Embarked         2\n",
       "dtype: int64"
      ]
     },
     "execution_count": 7,
     "metadata": {},
     "output_type": "execute_result"
    }
   ],
   "source": [
    "#Your code here\n",
    "df.isna().sum()"
   ]
  },
  {
   "cell_type": "markdown",
   "metadata": {},
   "source": [
    "Now we know which columns contain null values, but not how many. \n",
    "\n",
    "In the cell below, check chain a different method with `isna()` to check how many total null values are in each column.  \n",
    "\n",
    "Expected Output:\n",
    "\n",
    "```\n",
    "PassengerId      0\n",
    "Survived         0\n",
    "Pclass           0\n",
    "Name             0\n",
    "Sex              0\n",
    "Age            177\n",
    "SibSp            0\n",
    "Parch            0\n",
    "Ticket           0\n",
    "Fare             0\n",
    "Cabin          687\n",
    "Embarked         2\n",
    "dtype: int64```"
   ]
  },
  {
   "cell_type": "code",
   "execution_count": null,
   "metadata": {},
   "outputs": [],
   "source": [
    "#Your code here"
   ]
  },
  {
   "cell_type": "markdown",
   "metadata": {},
   "source": [
    "Now that we know how many null values exist in each column, we can make some decisions about how to deal with them.  \n",
    "\n",
    "We'll deal with each column individually, and employ a different strategy for each.  \n",
    "\n",
    "\n",
    "### Dropping the Column\n",
    "\n",
    "The first column we'll deal with is the `Cabin` column.  We'll begin by examining this column more closely. \n",
    "\n",
    "\n",
    "In the cell below:\n",
    "* Determine what percentage of rows in this column contain missing values\n",
    "* Print out the number of unique values in this column"
   ]
  },
  {
   "cell_type": "code",
   "execution_count": 10,
   "metadata": {},
   "outputs": [
    {
     "data": {
      "text/plain": [
       "0.2289562289562289"
      ]
     },
     "execution_count": 10,
     "metadata": {},
     "output_type": "execute_result"
    }
   ],
   "source": [
    "#Your code here\n",
    "cabin_percentage = 1-(df[\"Cabin\"].isna().sum() / (len(df[\"Cabin\"])))\n",
    "cabin_percentage"
   ]
  },
  {
   "cell_type": "markdown",
   "metadata": {},
   "source": [
    "With this many missing values, it's probably best for us to just drop this column completely.\n",
    "\n",
    "In the cell below:\n",
    "\n",
    "* drop the `Cabin` column in place from the `df` DataFrame\n",
    "* Then, check the remaining number of null values in the data set by using the code you wrote previously.  "
   ]
  },
  {
   "cell_type": "code",
   "execution_count": 17,
   "metadata": {},
   "outputs": [
    {
     "ename": "KeyError",
     "evalue": "\"[nan 'C85' nan 'C123' nan nan 'E46' nan nan nan 'G6' 'C103' nan nan nan\\n nan nan nan nan nan nan 'D56' nan 'A6' nan nan nan 'C23 C25 C27' nan nan\\n nan 'B78' nan nan nan nan nan nan nan nan nan nan nan nan nan nan nan nan\\n nan nan nan nan 'D33' nan 'B30' 'C52' nan nan nan nan nan 'B28' 'C83' nan\\n nan nan 'F33' nan nan nan nan nan nan nan nan 'F G73' nan nan nan nan nan\\n nan nan nan nan nan nan nan 'C23 C25 C27' nan nan nan 'E31' nan nan nan\\n 'A5' 'D10 D12' nan nan nan nan 'D26' nan nan nan nan nan nan nan 'C110'\\n nan nan nan nan nan nan nan 'B58 B60' nan nan nan nan 'E101' 'D26' nan\\n nan nan 'F E69' nan nan nan nan nan nan nan 'D47' 'C123' nan 'B86' nan\\n nan nan nan nan nan nan nan 'F2' nan nan 'C2' nan nan nan nan nan nan nan\\n nan nan nan nan nan nan nan 'E33' nan nan nan 'B19' nan nan nan 'A7' nan\\n nan 'C49' nan nan nan nan nan 'F4' nan 'A32' nan nan nan nan nan nan nan\\n 'F2' 'B4' 'B80' nan nan nan nan nan nan nan nan nan 'G6' nan nan nan\\n 'A31' nan nan nan nan nan 'D36' nan nan 'D15' nan nan nan nan nan 'C93'\\n nan nan nan nan nan 'C83' nan nan nan nan nan nan nan nan nan nan nan nan\\n nan nan 'C78' nan nan 'D35' nan nan 'G6' 'C87' nan nan nan nan 'B77' nan\\n nan nan nan 'E67' 'B94' nan nan nan nan 'C125' 'C99' nan nan nan 'C118'\\n nan 'D7' nan nan nan nan nan nan nan nan 'A19' nan nan nan nan nan nan\\n 'B49' 'D' nan nan nan nan 'C22 C26' 'C106' 'B58 B60' nan nan nan 'E101'\\n nan 'C22 C26' nan 'C65' nan 'E36' 'C54' 'B57 B59 B63 B66' nan nan nan nan\\n nan nan 'C7' 'E34' nan nan nan nan nan 'C32' nan 'D' nan 'B18' nan 'C124'\\n 'C91' nan nan nan 'C2' 'E40' nan 'T' 'F2' 'C23 C25 C27' nan nan nan 'F33'\\n nan nan nan nan nan 'C128' nan nan nan nan 'E33' nan nan nan nan nan nan\\n nan nan nan 'D37' nan nan 'B35' 'E50' nan nan nan nan nan nan 'C82' nan\\n nan nan nan nan nan nan nan nan nan nan nan 'B96 B98' nan nan 'D36' 'G6'\\n nan nan nan nan nan nan nan nan nan nan nan nan nan nan nan nan nan 'C78'\\n nan nan nan nan nan nan nan nan nan nan nan nan nan nan nan nan 'E10'\\n 'C52' nan nan nan 'E44' 'B96 B98' nan nan 'C23 C25 C27' nan nan nan nan\\n nan nan 'A34' nan nan nan 'C104' nan nan 'C111' 'C92' nan nan 'E38' 'D21'\\n nan nan 'E12' nan 'E63' nan nan nan nan nan nan nan nan nan nan 'D' nan\\n 'A14' nan nan nan nan nan nan nan nan 'B49' nan 'C93' 'B37' nan nan nan\\n nan 'C30' nan nan nan 'D20' nan 'C22 C26' nan nan nan nan nan 'B79' 'C65'\\n nan nan nan nan nan nan 'E25' nan nan 'D46' 'F33' nan nan nan 'B73' nan\\n nan 'B18' nan nan nan 'C95' nan nan nan nan nan nan nan nan 'B38' nan nan\\n 'B39' 'B22' nan nan nan 'C86' nan nan nan nan nan 'C70' nan nan nan nan\\n nan 'A16' nan 'E67' nan nan nan nan nan nan nan nan nan nan nan nan\\n 'C101' 'E25' nan nan nan nan 'E44' nan nan nan 'C68' nan 'A10' nan 'E68'\\n nan 'B41' nan nan nan 'D20' nan nan nan nan nan nan nan 'A20' nan nan nan\\n nan nan nan nan nan nan 'C125' nan nan nan nan nan nan nan nan 'F4' nan\\n nan 'D19' nan nan nan 'D50' nan 'D9' nan nan 'A23' nan 'B50' nan nan nan\\n nan nan nan nan nan 'B35' nan nan nan 'D33' nan 'A26' nan nan nan nan nan\\n nan nan nan nan nan nan 'D48' nan nan 'E58' nan nan nan nan nan nan\\n 'C126' nan 'B71' nan nan nan nan nan nan nan 'B51 B53 B55' nan 'D49' nan\\n nan nan nan nan nan nan 'B5' 'B20' nan nan nan nan nan nan nan 'C68'\\n 'F G63' 'C62 C64' 'E24' nan nan nan nan nan 'E24' nan nan 'C90' 'C124'\\n 'C126' nan nan 'F G73' 'C45' 'E101' nan nan nan nan nan nan 'E8' nan nan\\n nan nan nan 'B5' nan nan nan nan nan nan 'B101' nan nan 'D45' 'C46'\\n 'B57 B59 B63 B66' nan nan 'B22' nan nan 'D30' nan nan 'E121' nan nan nan\\n nan nan nan nan 'B77' nan nan nan 'B96 B98' nan 'D11' nan nan nan nan nan\\n nan 'E77' nan nan nan 'F38' nan nan 'B3' nan 'B20' 'D6' nan nan nan nan\\n nan nan 'B82 B84' nan nan nan nan nan nan 'D17' nan nan nan nan nan\\n 'B96 B98' nan nan nan 'A36' nan nan 'E8' nan nan nan nan nan 'B102' nan\\n nan nan nan 'B69' nan nan 'E121' nan nan nan nan nan 'B28' nan nan nan\\n nan nan 'E49' nan nan nan 'C47' nan nan nan nan nan nan nan nan nan 'C92'\\n nan nan nan 'D28' nan nan nan 'E17' nan nan nan nan 'D17' nan nan nan nan\\n 'A24' nan nan nan 'D35' 'B51 B53 B55' nan nan nan nan nan nan 'C50' nan\\n nan nan nan nan nan nan 'B42' nan 'C148' nan] not found in axis\"",
     "output_type": "error",
     "traceback": [
      "\u001b[0;31m\u001b[0m",
      "\u001b[0;31mKeyError\u001b[0mTraceback (most recent call last)",
      "\u001b[0;32m<ipython-input-17-399486bcc087>\u001b[0m in \u001b[0;36m<module>\u001b[0;34m()\u001b[0m\n\u001b[1;32m      1\u001b[0m \u001b[0;31m#Your code here\u001b[0m\u001b[0;34m\u001b[0m\u001b[0;34m\u001b[0m\u001b[0m\n\u001b[0;32m----> 2\u001b[0;31m \u001b[0mdf\u001b[0m\u001b[0;34m.\u001b[0m\u001b[0mdrop\u001b[0m\u001b[0;34m(\u001b[0m\u001b[0mdf\u001b[0m\u001b[0;34m[\u001b[0m\u001b[0;34m\"Cabin\"\u001b[0m\u001b[0;34m]\u001b[0m\u001b[0;34m,\u001b[0m\u001b[0maxis\u001b[0m \u001b[0;34m=\u001b[0m \u001b[0;36m0\u001b[0m\u001b[0;34m)\u001b[0m\u001b[0;34m\u001b[0m\u001b[0m\n\u001b[0m",
      "\u001b[0;32m/opt/conda/envs/learn-env/lib/python3.6/site-packages/pandas/core/frame.py\u001b[0m in \u001b[0;36mdrop\u001b[0;34m(self, labels, axis, index, columns, level, inplace, errors)\u001b[0m\n\u001b[1;32m   3695\u001b[0m                                            \u001b[0mindex\u001b[0m\u001b[0;34m=\u001b[0m\u001b[0mindex\u001b[0m\u001b[0;34m,\u001b[0m \u001b[0mcolumns\u001b[0m\u001b[0;34m=\u001b[0m\u001b[0mcolumns\u001b[0m\u001b[0;34m,\u001b[0m\u001b[0;34m\u001b[0m\u001b[0m\n\u001b[1;32m   3696\u001b[0m                                            \u001b[0mlevel\u001b[0m\u001b[0;34m=\u001b[0m\u001b[0mlevel\u001b[0m\u001b[0;34m,\u001b[0m \u001b[0minplace\u001b[0m\u001b[0;34m=\u001b[0m\u001b[0minplace\u001b[0m\u001b[0;34m,\u001b[0m\u001b[0;34m\u001b[0m\u001b[0m\n\u001b[0;32m-> 3697\u001b[0;31m                                            errors=errors)\n\u001b[0m\u001b[1;32m   3698\u001b[0m \u001b[0;34m\u001b[0m\u001b[0m\n\u001b[1;32m   3699\u001b[0m     @rewrite_axis_style_signature('mapper', [('copy', True),\n",
      "\u001b[0;32m/opt/conda/envs/learn-env/lib/python3.6/site-packages/pandas/core/generic.py\u001b[0m in \u001b[0;36mdrop\u001b[0;34m(self, labels, axis, index, columns, level, inplace, errors)\u001b[0m\n\u001b[1;32m   3109\u001b[0m         \u001b[0;32mfor\u001b[0m \u001b[0maxis\u001b[0m\u001b[0;34m,\u001b[0m \u001b[0mlabels\u001b[0m \u001b[0;32min\u001b[0m \u001b[0maxes\u001b[0m\u001b[0;34m.\u001b[0m\u001b[0mitems\u001b[0m\u001b[0;34m(\u001b[0m\u001b[0;34m)\u001b[0m\u001b[0;34m:\u001b[0m\u001b[0;34m\u001b[0m\u001b[0m\n\u001b[1;32m   3110\u001b[0m             \u001b[0;32mif\u001b[0m \u001b[0mlabels\u001b[0m \u001b[0;32mis\u001b[0m \u001b[0;32mnot\u001b[0m \u001b[0;32mNone\u001b[0m\u001b[0;34m:\u001b[0m\u001b[0;34m\u001b[0m\u001b[0m\n\u001b[0;32m-> 3111\u001b[0;31m                 \u001b[0mobj\u001b[0m \u001b[0;34m=\u001b[0m \u001b[0mobj\u001b[0m\u001b[0;34m.\u001b[0m\u001b[0m_drop_axis\u001b[0m\u001b[0;34m(\u001b[0m\u001b[0mlabels\u001b[0m\u001b[0;34m,\u001b[0m \u001b[0maxis\u001b[0m\u001b[0;34m,\u001b[0m \u001b[0mlevel\u001b[0m\u001b[0;34m=\u001b[0m\u001b[0mlevel\u001b[0m\u001b[0;34m,\u001b[0m \u001b[0merrors\u001b[0m\u001b[0;34m=\u001b[0m\u001b[0merrors\u001b[0m\u001b[0;34m)\u001b[0m\u001b[0;34m\u001b[0m\u001b[0m\n\u001b[0m\u001b[1;32m   3112\u001b[0m \u001b[0;34m\u001b[0m\u001b[0m\n\u001b[1;32m   3113\u001b[0m         \u001b[0;32mif\u001b[0m \u001b[0minplace\u001b[0m\u001b[0;34m:\u001b[0m\u001b[0;34m\u001b[0m\u001b[0m\n",
      "\u001b[0;32m/opt/conda/envs/learn-env/lib/python3.6/site-packages/pandas/core/generic.py\u001b[0m in \u001b[0;36m_drop_axis\u001b[0;34m(self, labels, axis, level, errors)\u001b[0m\n\u001b[1;32m   3141\u001b[0m                 \u001b[0mnew_axis\u001b[0m \u001b[0;34m=\u001b[0m \u001b[0maxis\u001b[0m\u001b[0;34m.\u001b[0m\u001b[0mdrop\u001b[0m\u001b[0;34m(\u001b[0m\u001b[0mlabels\u001b[0m\u001b[0;34m,\u001b[0m \u001b[0mlevel\u001b[0m\u001b[0;34m=\u001b[0m\u001b[0mlevel\u001b[0m\u001b[0;34m,\u001b[0m \u001b[0merrors\u001b[0m\u001b[0;34m=\u001b[0m\u001b[0merrors\u001b[0m\u001b[0;34m)\u001b[0m\u001b[0;34m\u001b[0m\u001b[0m\n\u001b[1;32m   3142\u001b[0m             \u001b[0;32melse\u001b[0m\u001b[0;34m:\u001b[0m\u001b[0;34m\u001b[0m\u001b[0m\n\u001b[0;32m-> 3143\u001b[0;31m                 \u001b[0mnew_axis\u001b[0m \u001b[0;34m=\u001b[0m \u001b[0maxis\u001b[0m\u001b[0;34m.\u001b[0m\u001b[0mdrop\u001b[0m\u001b[0;34m(\u001b[0m\u001b[0mlabels\u001b[0m\u001b[0;34m,\u001b[0m \u001b[0merrors\u001b[0m\u001b[0;34m=\u001b[0m\u001b[0merrors\u001b[0m\u001b[0;34m)\u001b[0m\u001b[0;34m\u001b[0m\u001b[0m\n\u001b[0m\u001b[1;32m   3144\u001b[0m             \u001b[0mresult\u001b[0m \u001b[0;34m=\u001b[0m \u001b[0mself\u001b[0m\u001b[0;34m.\u001b[0m\u001b[0mreindex\u001b[0m\u001b[0;34m(\u001b[0m\u001b[0;34m**\u001b[0m\u001b[0;34m{\u001b[0m\u001b[0maxis_name\u001b[0m\u001b[0;34m:\u001b[0m \u001b[0mnew_axis\u001b[0m\u001b[0;34m}\u001b[0m\u001b[0;34m)\u001b[0m\u001b[0;34m\u001b[0m\u001b[0m\n\u001b[1;32m   3145\u001b[0m \u001b[0;34m\u001b[0m\u001b[0m\n",
      "\u001b[0;32m/opt/conda/envs/learn-env/lib/python3.6/site-packages/pandas/core/indexes/base.py\u001b[0m in \u001b[0;36mdrop\u001b[0;34m(self, labels, errors)\u001b[0m\n\u001b[1;32m   4402\u001b[0m             \u001b[0;32mif\u001b[0m \u001b[0merrors\u001b[0m \u001b[0;34m!=\u001b[0m \u001b[0;34m'ignore'\u001b[0m\u001b[0;34m:\u001b[0m\u001b[0;34m\u001b[0m\u001b[0m\n\u001b[1;32m   4403\u001b[0m                 raise KeyError(\n\u001b[0;32m-> 4404\u001b[0;31m                     '{} not found in axis'.format(labels[mask]))\n\u001b[0m\u001b[1;32m   4405\u001b[0m             \u001b[0mindexer\u001b[0m \u001b[0;34m=\u001b[0m \u001b[0mindexer\u001b[0m\u001b[0;34m[\u001b[0m\u001b[0;34m~\u001b[0m\u001b[0mmask\u001b[0m\u001b[0;34m]\u001b[0m\u001b[0;34m\u001b[0m\u001b[0m\n\u001b[1;32m   4406\u001b[0m         \u001b[0;32mreturn\u001b[0m \u001b[0mself\u001b[0m\u001b[0;34m.\u001b[0m\u001b[0mdelete\u001b[0m\u001b[0;34m(\u001b[0m\u001b[0mindexer\u001b[0m\u001b[0;34m)\u001b[0m\u001b[0;34m\u001b[0m\u001b[0m\n",
      "\u001b[0;31mKeyError\u001b[0m: \"[nan 'C85' nan 'C123' nan nan 'E46' nan nan nan 'G6' 'C103' nan nan nan\\n nan nan nan nan nan nan 'D56' nan 'A6' nan nan nan 'C23 C25 C27' nan nan\\n nan 'B78' nan nan nan nan nan nan nan nan nan nan nan nan nan nan nan nan\\n nan nan nan nan 'D33' nan 'B30' 'C52' nan nan nan nan nan 'B28' 'C83' nan\\n nan nan 'F33' nan nan nan nan nan nan nan nan 'F G73' nan nan nan nan nan\\n nan nan nan nan nan nan nan 'C23 C25 C27' nan nan nan 'E31' nan nan nan\\n 'A5' 'D10 D12' nan nan nan nan 'D26' nan nan nan nan nan nan nan 'C110'\\n nan nan nan nan nan nan nan 'B58 B60' nan nan nan nan 'E101' 'D26' nan\\n nan nan 'F E69' nan nan nan nan nan nan nan 'D47' 'C123' nan 'B86' nan\\n nan nan nan nan nan nan nan 'F2' nan nan 'C2' nan nan nan nan nan nan nan\\n nan nan nan nan nan nan nan 'E33' nan nan nan 'B19' nan nan nan 'A7' nan\\n nan 'C49' nan nan nan nan nan 'F4' nan 'A32' nan nan nan nan nan nan nan\\n 'F2' 'B4' 'B80' nan nan nan nan nan nan nan nan nan 'G6' nan nan nan\\n 'A31' nan nan nan nan nan 'D36' nan nan 'D15' nan nan nan nan nan 'C93'\\n nan nan nan nan nan 'C83' nan nan nan nan nan nan nan nan nan nan nan nan\\n nan nan 'C78' nan nan 'D35' nan nan 'G6' 'C87' nan nan nan nan 'B77' nan\\n nan nan nan 'E67' 'B94' nan nan nan nan 'C125' 'C99' nan nan nan 'C118'\\n nan 'D7' nan nan nan nan nan nan nan nan 'A19' nan nan nan nan nan nan\\n 'B49' 'D' nan nan nan nan 'C22 C26' 'C106' 'B58 B60' nan nan nan 'E101'\\n nan 'C22 C26' nan 'C65' nan 'E36' 'C54' 'B57 B59 B63 B66' nan nan nan nan\\n nan nan 'C7' 'E34' nan nan nan nan nan 'C32' nan 'D' nan 'B18' nan 'C124'\\n 'C91' nan nan nan 'C2' 'E40' nan 'T' 'F2' 'C23 C25 C27' nan nan nan 'F33'\\n nan nan nan nan nan 'C128' nan nan nan nan 'E33' nan nan nan nan nan nan\\n nan nan nan 'D37' nan nan 'B35' 'E50' nan nan nan nan nan nan 'C82' nan\\n nan nan nan nan nan nan nan nan nan nan nan 'B96 B98' nan nan 'D36' 'G6'\\n nan nan nan nan nan nan nan nan nan nan nan nan nan nan nan nan nan 'C78'\\n nan nan nan nan nan nan nan nan nan nan nan nan nan nan nan nan 'E10'\\n 'C52' nan nan nan 'E44' 'B96 B98' nan nan 'C23 C25 C27' nan nan nan nan\\n nan nan 'A34' nan nan nan 'C104' nan nan 'C111' 'C92' nan nan 'E38' 'D21'\\n nan nan 'E12' nan 'E63' nan nan nan nan nan nan nan nan nan nan 'D' nan\\n 'A14' nan nan nan nan nan nan nan nan 'B49' nan 'C93' 'B37' nan nan nan\\n nan 'C30' nan nan nan 'D20' nan 'C22 C26' nan nan nan nan nan 'B79' 'C65'\\n nan nan nan nan nan nan 'E25' nan nan 'D46' 'F33' nan nan nan 'B73' nan\\n nan 'B18' nan nan nan 'C95' nan nan nan nan nan nan nan nan 'B38' nan nan\\n 'B39' 'B22' nan nan nan 'C86' nan nan nan nan nan 'C70' nan nan nan nan\\n nan 'A16' nan 'E67' nan nan nan nan nan nan nan nan nan nan nan nan\\n 'C101' 'E25' nan nan nan nan 'E44' nan nan nan 'C68' nan 'A10' nan 'E68'\\n nan 'B41' nan nan nan 'D20' nan nan nan nan nan nan nan 'A20' nan nan nan\\n nan nan nan nan nan nan 'C125' nan nan nan nan nan nan nan nan 'F4' nan\\n nan 'D19' nan nan nan 'D50' nan 'D9' nan nan 'A23' nan 'B50' nan nan nan\\n nan nan nan nan nan 'B35' nan nan nan 'D33' nan 'A26' nan nan nan nan nan\\n nan nan nan nan nan nan 'D48' nan nan 'E58' nan nan nan nan nan nan\\n 'C126' nan 'B71' nan nan nan nan nan nan nan 'B51 B53 B55' nan 'D49' nan\\n nan nan nan nan nan nan 'B5' 'B20' nan nan nan nan nan nan nan 'C68'\\n 'F G63' 'C62 C64' 'E24' nan nan nan nan nan 'E24' nan nan 'C90' 'C124'\\n 'C126' nan nan 'F G73' 'C45' 'E101' nan nan nan nan nan nan 'E8' nan nan\\n nan nan nan 'B5' nan nan nan nan nan nan 'B101' nan nan 'D45' 'C46'\\n 'B57 B59 B63 B66' nan nan 'B22' nan nan 'D30' nan nan 'E121' nan nan nan\\n nan nan nan nan 'B77' nan nan nan 'B96 B98' nan 'D11' nan nan nan nan nan\\n nan 'E77' nan nan nan 'F38' nan nan 'B3' nan 'B20' 'D6' nan nan nan nan\\n nan nan 'B82 B84' nan nan nan nan nan nan 'D17' nan nan nan nan nan\\n 'B96 B98' nan nan nan 'A36' nan nan 'E8' nan nan nan nan nan 'B102' nan\\n nan nan nan 'B69' nan nan 'E121' nan nan nan nan nan 'B28' nan nan nan\\n nan nan 'E49' nan nan nan 'C47' nan nan nan nan nan nan nan nan nan 'C92'\\n nan nan nan 'D28' nan nan nan 'E17' nan nan nan nan 'D17' nan nan nan nan\\n 'A24' nan nan nan 'D35' 'B51 B53 B55' nan nan nan nan nan nan 'C50' nan\\n nan nan nan nan nan nan 'B42' nan 'C148' nan] not found in axis\""
     ]
    }
   ],
   "source": [
    "#Your code here\n",
    "df.drop(df[\"Cabin\"],axis = 0)"
   ]
  },
  {
   "cell_type": "markdown",
   "metadata": {},
   "source": [
    "### Computing Placeholder Values\n",
    "\n",
    "Recall that another common strategy for dealing with null values is to replace them with the mean or median for that column.  We'll begin by investigating the current version of the `'Age'` column.  \n",
    "\n",
    "In the cell below:\n",
    "\n",
    "* Plot a histogram of values in the `'Age'` column with 80 bins (1 for each year).   \n",
    "* Print out the mean and median for the column.  "
   ]
  },
  {
   "cell_type": "code",
   "execution_count": null,
   "metadata": {},
   "outputs": [],
   "source": [
    "# Your code here"
   ]
  },
  {
   "cell_type": "markdown",
   "metadata": {},
   "source": [
    "From the visualization above, we can see the data has a slightly positive skew. \n",
    "\n",
    "In the cell below, replace all null values in the `'Age'` column with the median of the column.  **Do not hard code this value--use the methods from pandas or numpy to make this easier!**  Do this replacement in place on the DataFrame. "
   ]
  },
  {
   "cell_type": "code",
   "execution_count": null,
   "metadata": {},
   "outputs": [],
   "source": [
    "# Your code here"
   ]
  },
  {
   "cell_type": "markdown",
   "metadata": {},
   "source": [
    "Now that we've replaced the values in the `'Age'` column, let's confirm that they've been replaced.  \n",
    "\n",
    "In the cell below, check how many null values remain in the dataset.  "
   ]
  },
  {
   "cell_type": "code",
   "execution_count": null,
   "metadata": {},
   "outputs": [],
   "source": [
    "# Your code here"
   ]
  },
  {
   "cell_type": "markdown",
   "metadata": {},
   "source": [
    "Great! Now we need to deal with the two pesky null values in the `'Embarked'` column.  \n",
    "\n",
    "### Dropping Rows That Contain Null Values\n",
    "\n",
    "Perhaps the most common solution to dealing with null values is to simply drop any rows that contain them.  Of course, this is only a good idea if the number dropped does not constitute a significant portion of our dataset.  Often, you'll need to make the overall determination to see if dropping the values is an acceptable loss, or if it is a better idea to just drop an offending column (e.g. the `'Cabin'` column) or to impute placeholder values instead.\n",
    "\n",
    "In the cell below, use the appropriate built-in DataFrame method to drop the rows containing null values. Do this in place on the DataFrame.  "
   ]
  },
  {
   "cell_type": "code",
   "execution_count": null,
   "metadata": {},
   "outputs": [],
   "source": [
    "# Your code here"
   ]
  },
  {
   "cell_type": "markdown",
   "metadata": {},
   "source": [
    "Great! We've dealt with all the **_obvious_** null values, but we should also take some time to make sure that there aren't symbols or numbers included that are meant to denote a missing value. \n",
    "\n",
    "### Missing Values with Placeholders\n",
    "\n",
    "A common thing to see when working with datasets is missing values denoted with a preassigned code or symbol.  Let's check to ensure that each categorical column contains only what we expect.\n",
    "\n",
    "In the cell below, return the unique values in the `'Embarked'`, `'Sex'`, `'Pclass'`, and `'Survived'` columns to ensure that there are no values in there that we don't understand or can't account for.  "
   ]
  },
  {
   "cell_type": "code",
   "execution_count": null,
   "metadata": {},
   "outputs": [],
   "source": [
    "# Your code here"
   ]
  },
  {
   "cell_type": "markdown",
   "metadata": {},
   "source": [
    "It Looks like the `'Pclass'` column contains some missing values denoted by a placeholder! \n",
    "\n",
    "In the cell below, investigate how many placeholder values this column contains.  Then, deal with these null values using whichever strategy you believe is most appropriate in this case.  "
   ]
  },
  {
   "cell_type": "code",
   "execution_count": null,
   "metadata": {},
   "outputs": [],
   "source": [
    "# Your code here"
   ]
  },
  {
   "cell_type": "code",
   "execution_count": null,
   "metadata": {},
   "outputs": [],
   "source": [
    "# Your code here"
   ]
  },
  {
   "cell_type": "markdown",
   "metadata": {},
   "source": [
    "**_Question:_** What is the benefit of treating missing values as a separate valid category?  What is the benefit of removing or replacing them? What are the drawbacks of each? Finally, which strategy did you choose? Explain your choice below. \n",
    "\n",
    "Write your answer below this line:\n",
    "______________________________________________________________________________________________________"
   ]
  },
  {
   "cell_type": "markdown",
   "metadata": {},
   "source": [
    "Now, let's do a final check to ensure that there are no more null values remaining in this dataset.  \n",
    "\n",
    "In the cell below, reuse the code you wrote at the beginning of the notebook to check how many null values our dataset now contains.  "
   ]
  },
  {
   "cell_type": "code",
   "execution_count": null,
   "metadata": {},
   "outputs": [],
   "source": [
    "# Your code here"
   ]
  },
  {
   "cell_type": "markdown",
   "metadata": {},
   "source": [
    "Great! Those all seem in line with our expectations.  We can confidently say that this dataset contains no pesky null values that will mess up our analysis later on!"
   ]
  },
  {
   "cell_type": "markdown",
   "metadata": {},
   "source": [
    "## Summary\n",
    "\n",
    "In this lab, we learned:\n",
    "* How to detect null values in our dataset\n",
    "* How to deal with null values by dropping rows\n",
    "* How to deal with null values by imputing mean/median values \n",
    "* Strategies for detecting null values encoded with a placeholder"
   ]
  }
 ],
 "metadata": {
  "kernelspec": {
   "display_name": "Python 3",
   "language": "python",
   "name": "python3"
  },
  "language_info": {
   "codemirror_mode": {
    "name": "ipython",
    "version": 3
   },
   "file_extension": ".py",
   "mimetype": "text/x-python",
   "name": "python",
   "nbconvert_exporter": "python",
   "pygments_lexer": "ipython3",
   "version": "3.6.6"
  }
 },
 "nbformat": 4,
 "nbformat_minor": 2
}
